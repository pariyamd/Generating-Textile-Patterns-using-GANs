{
 "cells": [
  {
   "cell_type": "code",
   "execution_count": 37,
   "id": "b0c0ccd1-beaa-4110-87da-ba3ec7a9dadd",
   "metadata": {},
   "outputs": [],
   "source": [
    "import pandas as pd\n",
    "import json\n",
    "from PIL import Image\n",
    "from torchvision import transforms"
   ]
  },
  {
   "cell_type": "code",
   "execution_count": 38,
   "id": "48b4cc25-4cce-4bb3-b5a8-98c7f3a2c142",
   "metadata": {},
   "outputs": [],
   "source": [
    "df=pd.read_csv(\"selection3.csv\")"
   ]
  },
  {
   "cell_type": "code",
   "execution_count": 39,
   "id": "290ce195-594a-42a7-b457-6d82c2d58ea9",
   "metadata": {},
   "outputs": [],
   "source": [
    "label_numeric={'Stripes': 1,\n",
    " 'Leopard': 2,\n",
    " 'Ditsy': 3,\n",
    " 'Floral': 4,\n",
    " 'Other': 5}"
   ]
  },
  {
   "cell_type": "code",
   "execution_count": 40,
   "id": "c05d4975-7b95-439a-a232-96c10535c7c6",
   "metadata": {},
   "outputs": [],
   "source": [
    "df=df[df.label!=\"Botanical\"]"
   ]
  },
  {
   "cell_type": "code",
   "execution_count": 41,
   "id": "3c5c5e81-cd36-4e0a-b273-5e0f0442f3b0",
   "metadata": {},
   "outputs": [],
   "source": [
    "trans_compose=transforms.ToTensor()"
   ]
  },
  {
   "cell_type": "code",
   "execution_count": 47,
   "id": "037b74b0-6849-4c94-9128-410e1fa34488",
   "metadata": {
    "scrolled": true,
    "tags": []
   },
   "outputs": [],
   "source": [
    "l={\"labels\":[]}\n",
    "for row in df.iterrows():\n",
    "    try:\n",
    "        img = Image.open(\"selection3/\"+row[1][\"path\"])\n",
    "    except:\n",
    "        continue\n",
    "    if trans_compose(img).shape[0]!=3:\n",
    "        try:\n",
    "            os.remove(\"selection3/\"+row[1][\"path\"])\n",
    "        except:\n",
    "            pass\n",
    "        continue\n",
    "    \n",
    "    l[\"labels\"].append([row[1][\"path\"],label_numeric[row[1][\"label\"]]])"
   ]
  },
  {
   "cell_type": "code",
   "execution_count": 48,
   "id": "586918b6-bf4b-450c-aa0d-6edb1a8be0d2",
   "metadata": {},
   "outputs": [
    {
     "data": {
      "text/plain": [
       "5404"
      ]
     },
     "execution_count": 48,
     "metadata": {},
     "output_type": "execute_result"
    }
   ],
   "source": [
    "len(l[\"labels\"])"
   ]
  },
  {
   "cell_type": "code",
   "execution_count": 57,
   "id": "6e627859-41ad-4f1c-aa44-ab6e672b96ab",
   "metadata": {},
   "outputs": [
    {
     "data": {
      "text/plain": [
       "58"
      ]
     },
     "execution_count": 57,
     "metadata": {},
     "output_type": "execute_result"
    }
   ],
   "source": [
    "243-185"
   ]
  },
  {
   "cell_type": "code",
   "execution_count": 49,
   "id": "f62f6d4b-51d7-43e2-ab7a-b06108f36671",
   "metadata": {},
   "outputs": [],
   "source": [
    "json_object = json.dumps(l)\n",
    "with open(\"dataset.json\", \"w\") as outfile:\n",
    "    outfile.write(json_object)"
   ]
  },
  {
   "cell_type": "code",
   "execution_count": 50,
   "id": "0ea48676-c000-4ae4-9c0c-c11643a23465",
   "metadata": {},
   "outputs": [],
   "source": [
    "import os"
   ]
  },
  {
   "cell_type": "code",
   "execution_count": 53,
   "id": "1ab71183-edf9-44ed-ab13-52c4d3c5383c",
   "metadata": {},
   "outputs": [],
   "source": [
    "# open(os.path.join(\"selection3/\", fname), 'rb')"
   ]
  },
  {
   "cell_type": "code",
   "execution_count": 55,
   "id": "b104696b-8151-458d-9086-2c48ce578e5e",
   "metadata": {},
   "outputs": [],
   "source": [
    "# /labels = json.load(f)['labels']"
   ]
  },
  {
   "cell_type": "code",
   "execution_count": 56,
   "id": "59775be3-ee6a-451d-a8f3-20cd5038a3b6",
   "metadata": {},
   "outputs": [],
   "source": [
    "# len([None,None])"
   ]
  },
  {
   "cell_type": "markdown",
   "id": "17bd0b2a-36ba-4c8b-a8c0-2f106b58a1a9",
   "metadata": {},
   "source": [
    "### "
   ]
  }
 ],
 "metadata": {
  "kernelspec": {
   "display_name": "Python 3 (ipykernel)",
   "language": "python",
   "name": "python3"
  },
  "language_info": {
   "codemirror_mode": {
    "name": "ipython",
    "version": 3
   },
   "file_extension": ".py",
   "mimetype": "text/x-python",
   "name": "python",
   "nbconvert_exporter": "python",
   "pygments_lexer": "ipython3",
   "version": "3.8.16"
  }
 },
 "nbformat": 4,
 "nbformat_minor": 5
}
