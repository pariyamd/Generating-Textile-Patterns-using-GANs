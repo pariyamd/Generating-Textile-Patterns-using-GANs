{
 "cells": [
  {
   "cell_type": "code",
   "execution_count": 1,
   "id": "f8e4f827-63cd-459c-bcf8-c7011bd4715c",
   "metadata": {},
   "outputs": [],
   "source": [
    "import pandas as pd"
   ]
  },
  {
   "cell_type": "code",
   "execution_count": 2,
   "id": "98f017c2-e39a-4daa-af1b-8c0f3069ba69",
   "metadata": {},
   "outputs": [],
   "source": [
    "stripes=pd.read_csv(\"stripes_diff.csv\").rename(columns={\"labels\":\"label\"})"
   ]
  },
  {
   "cell_type": "code",
   "execution_count": 3,
   "id": "e777a478-2120-4f2e-8c63-24e5813d5f4e",
   "metadata": {},
   "outputs": [],
   "source": [
    "ditsy=pd.read_csv(\"ditsy_diff.csv\").rename(columns={\"labels\":\"label\"})"
   ]
  },
  {
   "cell_type": "code",
   "execution_count": 4,
   "id": "89bdc6b6-9c0a-45f6-9c89-e8a9e061ce13",
   "metadata": {},
   "outputs": [],
   "source": [
    "leopard=pd.read_csv(\"leopard_diff.csv\").rename(columns={\"labels\":\"label\"})"
   ]
  },
  {
   "cell_type": "code",
   "execution_count": 9,
   "id": "fc6872dc-9a98-487d-b366-707bde725f56",
   "metadata": {},
   "outputs": [],
   "source": [
    "floral=pd.read_csv(\"floral_diff.csv\").rename(columns={\"labels\":\"label\"})"
   ]
  },
  {
   "cell_type": "code",
   "execution_count": 10,
   "id": "ba84daad-4db2-4af5-86d5-ff1e56f51a82",
   "metadata": {},
   "outputs": [],
   "source": [
    "stripes.label=\"Stripes\"\n",
    "ditsy.label=\"Ditsy\"\n",
    "leopard.label=\"Leopard\"\n",
    "floral.label=\"Floral\""
   ]
  },
  {
   "cell_type": "code",
   "execution_count": 11,
   "id": "b6f4f3be-f137-4199-b372-d2a15a8f425b",
   "metadata": {},
   "outputs": [],
   "source": [
    "stripes[\"path\"]=stripes.name.apply(lambda k:\"Stripes/\"+k)\n",
    "ditsy[\"path\"]=ditsy.name.apply(lambda k:\"Ditsy/\"+k)\n",
    "leopard[\"path\"]=leopard.name.apply(lambda k:\"Leopard/\"+k)\n",
    "floral[\"path\"]=floral.name.apply(lambda k:\"Floral/\"+k)"
   ]
  },
  {
   "cell_type": "code",
   "execution_count": 12,
   "id": "e437a250-3eb2-431b-9e10-478f04961a09",
   "metadata": {},
   "outputs": [],
   "source": [
    "pd.concat([stripes,ditsy,leopard,floral]).reset_index(drop=True)[[\"url\",\"name\",\"label\",\"path\"]].to_csv(\"new_collection.csv\")"
   ]
  },
  {
   "cell_type": "code",
   "execution_count": 8,
   "id": "596f48e1-2050-4a48-962c-4d677e48ad08",
   "metadata": {},
   "outputs": [
    {
     "data": {
      "text/html": [
       "<div>\n",
       "<style scoped>\n",
       "    .dataframe tbody tr th:only-of-type {\n",
       "        vertical-align: middle;\n",
       "    }\n",
       "\n",
       "    .dataframe tbody tr th {\n",
       "        vertical-align: top;\n",
       "    }\n",
       "\n",
       "    .dataframe thead th {\n",
       "        text-align: right;\n",
       "    }\n",
       "</style>\n",
       "<table border=\"1\" class=\"dataframe\">\n",
       "  <thead>\n",
       "    <tr style=\"text-align: right;\">\n",
       "      <th></th>\n",
       "      <th>Unnamed: 0</th>\n",
       "      <th>name</th>\n",
       "      <th>label</th>\n",
       "      <th>path</th>\n",
       "    </tr>\n",
       "  </thead>\n",
       "  <tbody>\n",
       "    <tr>\n",
       "      <th>0</th>\n",
       "      <td>0</td>\n",
       "      <td>100173500-abstract-bold-shapes-stripes-on-tren...</td>\n",
       "      <td>Stripes</td>\n",
       "      <td>Stripes/100173500-abstract-bold-shapes-stripes...</td>\n",
       "    </tr>\n",
       "    <tr>\n",
       "      <th>1</th>\n",
       "      <td>1</td>\n",
       "      <td>100286898-check-plaid-tonal-brown-blue.jpg</td>\n",
       "      <td>Stripes</td>\n",
       "      <td>Stripes/100286898-check-plaid-tonal-brown-blue...</td>\n",
       "    </tr>\n",
       "    <tr>\n",
       "      <th>2</th>\n",
       "      <td>2</td>\n",
       "      <td>10086842-stripes.jpg</td>\n",
       "      <td>Stripes</td>\n",
       "      <td>Stripes/10086842-stripes.jpg</td>\n",
       "    </tr>\n",
       "    <tr>\n",
       "      <th>3</th>\n",
       "      <td>3</td>\n",
       "      <td>101199454-rainbow-stripes.jpg</td>\n",
       "      <td>Stripes</td>\n",
       "      <td>Stripes/101199454-rainbow-stripes.jpg</td>\n",
       "    </tr>\n",
       "    <tr>\n",
       "      <th>4</th>\n",
       "      <td>4</td>\n",
       "      <td>101250214-illusion-pattern.jpg</td>\n",
       "      <td>Stripes</td>\n",
       "      <td>Stripes/101250214-illusion-pattern.jpg</td>\n",
       "    </tr>\n",
       "    <tr>\n",
       "      <th>...</th>\n",
       "      <td>...</td>\n",
       "      <td>...</td>\n",
       "      <td>...</td>\n",
       "      <td>...</td>\n",
       "    </tr>\n",
       "    <tr>\n",
       "      <th>4184</th>\n",
       "      <td>4184</td>\n",
       "      <td>991140562-new-romantics-soft-lilac-clematis.jpg</td>\n",
       "      <td>Floral</td>\n",
       "      <td>Floral/991140562-new-romantics-soft-lilac-clem...</td>\n",
       "    </tr>\n",
       "    <tr>\n",
       "      <th>4185</th>\n",
       "      <td>4185</td>\n",
       "      <td>992183055-spring-sunflowers-iii.jpg</td>\n",
       "      <td>Floral</td>\n",
       "      <td>Floral/992183055-spring-sunflowers-iii.jpg</td>\n",
       "    </tr>\n",
       "    <tr>\n",
       "      <th>4186</th>\n",
       "      <td>4186</td>\n",
       "      <td>996246106-bright-growing-daffodil-print.jpg</td>\n",
       "      <td>Floral</td>\n",
       "      <td>Floral/996246106-bright-growing-daffodil-print...</td>\n",
       "    </tr>\n",
       "    <tr>\n",
       "      <th>4187</th>\n",
       "      <td>4187</td>\n",
       "      <td>998145089-shelley-floral.jpg</td>\n",
       "      <td>Floral</td>\n",
       "      <td>Floral/998145089-shelley-floral.jpg</td>\n",
       "    </tr>\n",
       "    <tr>\n",
       "      <th>4188</th>\n",
       "      <td>4188</td>\n",
       "      <td>998190735-subdued-tropic-flowers-blooms-banana...</td>\n",
       "      <td>Floral</td>\n",
       "      <td>Floral/998190735-subdued-tropic-flowers-blooms...</td>\n",
       "    </tr>\n",
       "  </tbody>\n",
       "</table>\n",
       "<p>4189 rows × 4 columns</p>\n",
       "</div>"
      ],
      "text/plain": [
       "      Unnamed: 0                                               name    label   \n",
       "0              0  100173500-abstract-bold-shapes-stripes-on-tren...  Stripes  \\\n",
       "1              1         100286898-check-plaid-tonal-brown-blue.jpg  Stripes   \n",
       "2              2                               10086842-stripes.jpg  Stripes   \n",
       "3              3                      101199454-rainbow-stripes.jpg  Stripes   \n",
       "4              4                     101250214-illusion-pattern.jpg  Stripes   \n",
       "...          ...                                                ...      ...   \n",
       "4184        4184    991140562-new-romantics-soft-lilac-clematis.jpg   Floral   \n",
       "4185        4185                992183055-spring-sunflowers-iii.jpg   Floral   \n",
       "4186        4186        996246106-bright-growing-daffodil-print.jpg   Floral   \n",
       "4187        4187                       998145089-shelley-floral.jpg   Floral   \n",
       "4188        4188  998190735-subdued-tropic-flowers-blooms-banana...   Floral   \n",
       "\n",
       "                                                   path  \n",
       "0     Stripes/100173500-abstract-bold-shapes-stripes...  \n",
       "1     Stripes/100286898-check-plaid-tonal-brown-blue...  \n",
       "2                          Stripes/10086842-stripes.jpg  \n",
       "3                 Stripes/101199454-rainbow-stripes.jpg  \n",
       "4                Stripes/101250214-illusion-pattern.jpg  \n",
       "...                                                 ...  \n",
       "4184  Floral/991140562-new-romantics-soft-lilac-clem...  \n",
       "4185         Floral/992183055-spring-sunflowers-iii.jpg  \n",
       "4186  Floral/996246106-bright-growing-daffodil-print...  \n",
       "4187                Floral/998145089-shelley-floral.jpg  \n",
       "4188  Floral/998190735-subdued-tropic-flowers-blooms...  \n",
       "\n",
       "[4189 rows x 4 columns]"
      ]
     },
     "execution_count": 8,
     "metadata": {},
     "output_type": "execute_result"
    }
   ],
   "source": [
    "pd.read_csv(\"selection2_meta_data.csv\")"
   ]
  },
  {
   "cell_type": "markdown",
   "id": "d7362c00-03a0-45dd-8cba-9e9ca86af456",
   "metadata": {},
   "source": [
    "# creating selection3 csv"
   ]
  },
  {
   "cell_type": "code",
   "execution_count": 14,
   "id": "4c29fc5b-87a6-460d-b426-e1f27d9d5236",
   "metadata": {},
   "outputs": [
    {
     "name": "stdout",
     "output_type": "stream",
     "text": [
      "/bi/ala/scratch/pmehrbod/GAN\n"
     ]
    }
   ],
   "source": [
    "!pwd"
   ]
  },
  {
   "cell_type": "code",
   "execution_count": 33,
   "id": "c6fe0645-f564-48dc-9b58-0c2c269e8552",
   "metadata": {},
   "outputs": [],
   "source": [
    "selection2=pd.read_csv(\"selection2_meta_data.csv\")[[\"name\",\"label\",\"path\"]]"
   ]
  },
  {
   "cell_type": "code",
   "execution_count": 48,
   "id": "9bbb7af7-0285-46b3-8586-f567a1a1e3e2",
   "metadata": {},
   "outputs": [],
   "source": [
    "new_collection=pd.read_csv(\"new_collection2.csv\")[[\"name\",\"label\",\"path\"]]"
   ]
  },
  {
   "cell_type": "code",
   "execution_count": 58,
   "id": "83e03055-29a6-4afd-bcd5-7be31e1e0287",
   "metadata": {},
   "outputs": [],
   "source": [
    "comb_sel2_nc=pd.concat([selection2,new_collection]).reset_index(drop=True)"
   ]
  },
  {
   "cell_type": "code",
   "execution_count": 50,
   "id": "4edaa56d-c852-46f4-b58f-e7fbb46c4787",
   "metadata": {},
   "outputs": [],
   "source": [
    "from PIL import Image\n",
    "from tqdm import tqdm"
   ]
  },
  {
   "cell_type": "code",
   "execution_count": 51,
   "id": "80c75e6e-57df-4e8e-a4dd-f8c360a84326",
   "metadata": {},
   "outputs": [],
   "source": [
    "dropping=[]"
   ]
  },
  {
   "cell_type": "code",
   "execution_count": 52,
   "id": "1d126546-6311-4973-b62d-35e1de905a55",
   "metadata": {},
   "outputs": [
    {
     "data": {
      "text/plain": [
       "0"
      ]
     },
     "execution_count": 52,
     "metadata": {},
     "output_type": "execute_result"
    }
   ],
   "source": [
    "len(dropping)"
   ]
  },
  {
   "cell_type": "code",
   "execution_count": 53,
   "id": "586bab94-6385-4d5c-96d3-489b72c1edd9",
   "metadata": {
    "scrolled": true,
    "tags": []
   },
   "outputs": [
    {
     "name": "stderr",
     "output_type": "stream",
     "text": [
      "63011it [00:44, 1401.91it/s] \n"
     ]
    }
   ],
   "source": [
    "for f in tqdm(comb_sel2_nc.iterrows()):\n",
    "    try:\n",
    "        img = Image.open('selection3/'+f[1].path).convert('RGB')\n",
    "    except:\n",
    "        # print(f[1].path)\n",
    "        dropping.append(f[0])"
   ]
  },
  {
   "cell_type": "code",
   "execution_count": 59,
   "id": "3d0015ef-e3b4-4506-ad4a-83340923e9c2",
   "metadata": {},
   "outputs": [],
   "source": [
    "comb_sel2_nc.drop(dropping).reset_index(drop=True).to_csv(\"selection3.csv\")"
   ]
  },
  {
   "cell_type": "code",
   "execution_count": 60,
   "id": "ded3f13b-208b-495a-a029-416a9b93f209",
   "metadata": {},
   "outputs": [
    {
     "data": {
      "text/html": [
       "<div>\n",
       "<style scoped>\n",
       "    .dataframe tbody tr th:only-of-type {\n",
       "        vertical-align: middle;\n",
       "    }\n",
       "\n",
       "    .dataframe tbody tr th {\n",
       "        vertical-align: top;\n",
       "    }\n",
       "\n",
       "    .dataframe thead th {\n",
       "        text-align: right;\n",
       "    }\n",
       "</style>\n",
       "<table border=\"1\" class=\"dataframe\">\n",
       "  <thead>\n",
       "    <tr style=\"text-align: right;\">\n",
       "      <th></th>\n",
       "      <th>Unnamed: 0</th>\n",
       "      <th>name</th>\n",
       "      <th>label</th>\n",
       "      <th>path</th>\n",
       "    </tr>\n",
       "  </thead>\n",
       "  <tbody>\n",
       "    <tr>\n",
       "      <th>0</th>\n",
       "      <td>0</td>\n",
       "      <td>100173500-abstract-bold-shapes-stripes-on-tren...</td>\n",
       "      <td>Stripes</td>\n",
       "      <td>Stripes/100173500-abstract-bold-shapes-stripes...</td>\n",
       "    </tr>\n",
       "    <tr>\n",
       "      <th>1</th>\n",
       "      <td>1</td>\n",
       "      <td>100286898-check-plaid-tonal-brown-blue.jpg</td>\n",
       "      <td>Stripes</td>\n",
       "      <td>Stripes/100286898-check-plaid-tonal-brown-blue...</td>\n",
       "    </tr>\n",
       "    <tr>\n",
       "      <th>2</th>\n",
       "      <td>2</td>\n",
       "      <td>10086842-stripes.jpg</td>\n",
       "      <td>Stripes</td>\n",
       "      <td>Stripes/10086842-stripes.jpg</td>\n",
       "    </tr>\n",
       "    <tr>\n",
       "      <th>3</th>\n",
       "      <td>3</td>\n",
       "      <td>101199454-rainbow-stripes.jpg</td>\n",
       "      <td>Stripes</td>\n",
       "      <td>Stripes/101199454-rainbow-stripes.jpg</td>\n",
       "    </tr>\n",
       "    <tr>\n",
       "      <th>4</th>\n",
       "      <td>4</td>\n",
       "      <td>101250214-illusion-pattern.jpg</td>\n",
       "      <td>Stripes</td>\n",
       "      <td>Stripes/101250214-illusion-pattern.jpg</td>\n",
       "    </tr>\n",
       "    <tr>\n",
       "      <th>...</th>\n",
       "      <td>...</td>\n",
       "      <td>...</td>\n",
       "      <td>...</td>\n",
       "      <td>...</td>\n",
       "    </tr>\n",
       "    <tr>\n",
       "      <th>6325</th>\n",
       "      <td>6325</td>\n",
       "      <td>501317800-sunny-summer.jpg</td>\n",
       "      <td>Floral</td>\n",
       "      <td>Floral/501317800-sunny-summer.jpg</td>\n",
       "    </tr>\n",
       "    <tr>\n",
       "      <th>6326</th>\n",
       "      <td>6326</td>\n",
       "      <td>176111717-delicate-hand-painted-floral-pattern...</td>\n",
       "      <td>Floral</td>\n",
       "      <td>Floral/176111717-delicate-hand-painted-floral-...</td>\n",
       "    </tr>\n",
       "    <tr>\n",
       "      <th>6327</th>\n",
       "      <td>6327</td>\n",
       "      <td>643111737-multicolor-orchid-pattern.jpg</td>\n",
       "      <td>Floral</td>\n",
       "      <td>Floral/643111737-multicolor-orchid-pattern.jpg</td>\n",
       "    </tr>\n",
       "    <tr>\n",
       "      <th>6328</th>\n",
       "      <td>6328</td>\n",
       "      <td>252119071-oriental-floral-pattern.jpg</td>\n",
       "      <td>Floral</td>\n",
       "      <td>Floral/252119071-oriental-floral-pattern.jpg</td>\n",
       "    </tr>\n",
       "    <tr>\n",
       "      <th>6329</th>\n",
       "      <td>6329</td>\n",
       "      <td>263293555-minimal-floral-print-with-japanese-m...</td>\n",
       "      <td>Floral</td>\n",
       "      <td>Floral/263293555-minimal-floral-print-with-jap...</td>\n",
       "    </tr>\n",
       "  </tbody>\n",
       "</table>\n",
       "<p>6330 rows × 4 columns</p>\n",
       "</div>"
      ],
      "text/plain": [
       "      Unnamed: 0                                               name    label   \n",
       "0              0  100173500-abstract-bold-shapes-stripes-on-tren...  Stripes  \\\n",
       "1              1         100286898-check-plaid-tonal-brown-blue.jpg  Stripes   \n",
       "2              2                               10086842-stripes.jpg  Stripes   \n",
       "3              3                      101199454-rainbow-stripes.jpg  Stripes   \n",
       "4              4                     101250214-illusion-pattern.jpg  Stripes   \n",
       "...          ...                                                ...      ...   \n",
       "6325        6325                         501317800-sunny-summer.jpg   Floral   \n",
       "6326        6326  176111717-delicate-hand-painted-floral-pattern...   Floral   \n",
       "6327        6327            643111737-multicolor-orchid-pattern.jpg   Floral   \n",
       "6328        6328              252119071-oriental-floral-pattern.jpg   Floral   \n",
       "6329        6329  263293555-minimal-floral-print-with-japanese-m...   Floral   \n",
       "\n",
       "                                                   path  \n",
       "0     Stripes/100173500-abstract-bold-shapes-stripes...  \n",
       "1     Stripes/100286898-check-plaid-tonal-brown-blue...  \n",
       "2                          Stripes/10086842-stripes.jpg  \n",
       "3                 Stripes/101199454-rainbow-stripes.jpg  \n",
       "4                Stripes/101250214-illusion-pattern.jpg  \n",
       "...                                                 ...  \n",
       "6325                  Floral/501317800-sunny-summer.jpg  \n",
       "6326  Floral/176111717-delicate-hand-painted-floral-...  \n",
       "6327     Floral/643111737-multicolor-orchid-pattern.jpg  \n",
       "6328       Floral/252119071-oriental-floral-pattern.jpg  \n",
       "6329  Floral/263293555-minimal-floral-print-with-jap...  \n",
       "\n",
       "[6330 rows x 4 columns]"
      ]
     },
     "execution_count": 60,
     "metadata": {},
     "output_type": "execute_result"
    }
   ],
   "source": [
    "pd.read_csv(\"selection3.csv\")"
   ]
  },
  {
   "cell_type": "code",
   "execution_count": 61,
   "id": "40648e02-f3c2-40bb-b1fd-472412d89c6c",
   "metadata": {},
   "outputs": [
    {
     "data": {
      "text/plain": [
       "'/bi/ala/scratch/pmehrbod/GAN'"
      ]
     },
     "execution_count": 61,
     "metadata": {},
     "output_type": "execute_result"
    }
   ],
   "source": [
    "pwd"
   ]
  },
  {
   "cell_type": "code",
   "execution_count": null,
   "id": "d004b2ff-4609-4ba8-aa9b-558f9b3fc011",
   "metadata": {},
   "outputs": [],
   "source": []
  }
 ],
 "metadata": {
  "kernelspec": {
   "display_name": "Python 3 (ipykernel)",
   "language": "python",
   "name": "python3"
  },
  "language_info": {
   "codemirror_mode": {
    "name": "ipython",
    "version": 3
   },
   "file_extension": ".py",
   "mimetype": "text/x-python",
   "name": "python",
   "nbconvert_exporter": "python",
   "pygments_lexer": "ipython3",
   "version": "3.8.16"
  }
 },
 "nbformat": 4,
 "nbformat_minor": 5
}
