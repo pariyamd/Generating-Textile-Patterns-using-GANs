{
 "cells": [
  {
   "cell_type": "code",
   "execution_count": 1,
   "id": "96220bae-3cff-4275-a4c3-e4912476f126",
   "metadata": {},
   "outputs": [],
   "source": [
    "import pandas as pd\n",
    "import os\n",
    "import shutil\n",
    "from tqdm import tqdm"
   ]
  },
  {
   "cell_type": "code",
   "execution_count": 2,
   "id": "0503680d-e39a-41d3-b01f-def7a91aa464",
   "metadata": {},
   "outputs": [],
   "source": [
    "s1=pd.read_csv(\"selection1_meta_data.csv\")\n",
    "s2=pd.read_csv(\"selection2_meta_data.csv\")"
   ]
  },
  {
   "cell_type": "code",
   "execution_count": 3,
   "id": "33bfd601-5793-41c6-adc6-3961b970418e",
   "metadata": {},
   "outputs": [],
   "source": [
    "s2_names=s2[s2.label!=\"Botanical\"][\"name\"]"
   ]
  },
  {
   "cell_type": "code",
   "execution_count": 4,
   "id": "08f0aa43-be94-4743-8ce4-bbb60a6b96ea",
   "metadata": {},
   "outputs": [],
   "source": [
    "file_paths=s1[~s1.name.isin(s2_names)].path"
   ]
  },
  {
   "cell_type": "code",
   "execution_count": 5,
   "id": "4a5d784f-f6cb-43e2-bf45-211afd6197b5",
   "metadata": {},
   "outputs": [],
   "source": [
    "new_records_s2=[]"
   ]
  },
  {
   "cell_type": "code",
   "execution_count": 7,
   "id": "6079d74a-d18e-410f-867d-886626b0bc28",
   "metadata": {},
   "outputs": [
    {
     "name": "stderr",
     "output_type": "stream",
     "text": [
      "100%|█████████████████████████████████████████████████████████████████████████████| 3268/3268 [00:00<00:00, 7860.44it/s]\n"
     ]
    }
   ],
   "source": [
    "for f in tqdm(file_paths):\n",
    "    name=os.path.basename(f)\n",
    "    path=os.path.join(\"Other\",name)\n",
    "    shutil.copyfile(os.path.join(\"selection1\",f),os.path.join(\"selection2\",path))\n",
    "    new_records_s2.append({\"name\":name,\"label\":\"Other\",\"path\":path})"
   ]
  },
  {
   "cell_type": "code",
   "execution_count": 8,
   "id": "d887f7ff-15d1-4437-8844-52a6de2ae94f",
   "metadata": {},
   "outputs": [],
   "source": [
    "s2_new=pd.DataFrame.from_records(new_records_s2)"
   ]
  },
  {
   "cell_type": "code",
   "execution_count": 9,
   "id": "c4054752-f576-483d-a676-969db0309b50",
   "metadata": {},
   "outputs": [],
   "source": [
    "new_selection2=pd.concat([s2[[\"name\",\"label\",\"path\"]],s2_new])"
   ]
  },
  {
   "cell_type": "code",
   "execution_count": 10,
   "id": "248a044d-3c15-484a-b66f-6706c277fd68",
   "metadata": {},
   "outputs": [],
   "source": [
    "new_selection2.to_csv(\"selection2_new.csv\")"
   ]
  },
  {
   "cell_type": "code",
   "execution_count": null,
   "id": "87f960ec-d8cc-49d1-a1ee-41317e063f7e",
   "metadata": {},
   "outputs": [],
   "source": []
  }
 ],
 "metadata": {
  "kernelspec": {
   "display_name": "Python 3 (ipykernel)",
   "language": "python",
   "name": "python3"
  },
  "language_info": {
   "codemirror_mode": {
    "name": "ipython",
    "version": 3
   },
   "file_extension": ".py",
   "mimetype": "text/x-python",
   "name": "python",
   "nbconvert_exporter": "python",
   "pygments_lexer": "ipython3",
   "version": "3.8.16"
  }
 },
 "nbformat": 4,
 "nbformat_minor": 5
}
